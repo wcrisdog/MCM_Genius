{
 "cells": [
  {
   "cell_type": "markdown",
   "metadata": {},
   "source": [
    "### Density comparison"
   ]
  },
  {
   "cell_type": "code",
   "execution_count": null,
   "metadata": {},
   "outputs": [],
   "source": [
    "import pandas as pd\n",
    "\n",
    "file_path = \"C:\\Users\\Ethan\\Desktop\\美赛\\2023_MCM_Problem_C\\Problem_C_Data_Wordle.xlsx\" \n",
    "df = pd.read_excel(file_path, sheet_name = 'data') \n",
    "\n"
   ]
  }
 ],
 "metadata": {
  "language_info": {
   "name": "python"
  }
 },
 "nbformat": 4,
 "nbformat_minor": 2
}
