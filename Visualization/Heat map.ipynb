{
 "cells": [
  {
   "cell_type": "markdown",
   "metadata": {},
   "source": [
    "## World Heat map"
   ]
  },
  {
   "cell_type": "code",
   "execution_count": null,
   "metadata": {},
   "outputs": [],
   "source": [
    "import geopandas as gpd\n",
    "import matplotlib.pyplot as plt\n",
    "import random\n",
    "plt.switch_backend(\"TkAgg\")\n",
    "\n",
    "# 需要自行前往https://www.naturalearthdata.com/downloads/110m-cultural-vectors/，下载世界地图\n",
    "# 替换为下载后的 .shp 文件路径\n",
    "shapefile_path = \"D:/Downloads/ne_110m_admin_0_countries/ne_110m_admin_0_countries.shp\"\n",
    "\n",
    "# 加载世界地图数据\n",
    "world = gpd.read_file(shapefile_path)\n",
    "\n",
    "# 随机为每个国家分配一个值\n",
    "world['random_value'] = [random.uniform(0, 100) for _ in range(len(world))]\n",
    "\n",
    "# 绘制地图\n",
    "fig, ax = plt.subplots(1, 1, figsize=(10, 8))\n",
    "world.plot(column='random_value',  # 使用随机值作为颜色依据\n",
    "           cmap='viridis',         # 色彩映射方案（可以选择 'viridis，蓝绿黄', 'coolwarm，蓝白红', 'plasma，紫橙黄' 等）\n",
    "           legend=True,            # 显示图例\n",
    "           legend_kwds={'label': \"Targeted Values\"},  # 图例标题\n",
    "           ax=ax)\n",
    "\n",
    "# 设置标题和隐藏坐标轴\n",
    "ax.set_title(\"World Heatmap\", fontsize=12)\n",
    "ax.axis('off')  # 隐藏坐标轴\n",
    "\n",
    "plt.show()"
   ]
  }
 ],
 "metadata": {
  "language_info": {
   "name": "python"
  }
 },
 "nbformat": 4,
 "nbformat_minor": 2
}
