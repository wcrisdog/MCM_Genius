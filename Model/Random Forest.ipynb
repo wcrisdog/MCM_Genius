{
 "cells": [
  {
   "cell_type": "markdown",
   "metadata": {},
   "source": [
    "## Random Forest Algorithm"
   ]
  },
  {
   "cell_type": "markdown",
   "metadata": {
    "vscode": {
     "languageId": "plaintext"
    }
   },
   "source": [
    "### For Classification\n",
    "https://scikit-learn.org/stable/modules/generated/sklearn.ensemble.RandomForestClassifier.html"
   ]
  },
  {
   "cell_type": "code",
   "execution_count": null,
   "metadata": {},
   "outputs": [],
   "source": [
    "import numpy as np\n",
    "from sklearn.tree import DecisionTreeClassifier\n",
    "\n",
    "class rfc:\n",
    "    \"\"\"\n",
    "    随机森林分类器\n",
    "    \"\"\"\n",
    "\n",
    "    def __init__(self, n_estimators = 100, random_state = 0):\n",
    "        # 随机森林的大小\n",
    "        self.n_estimators = n_estimators\n",
    "        # 随机森林的随机种子\n",
    "        self.random_state = random_state\n",
    "\n",
    "    def fit(self, X, y):\n",
    "        \"\"\"\n",
    "        随机森林分类器拟合\n",
    "        \"\"\"\n",
    "        self.y_classes = np.unique(y)\n",
    "        # 决策树数组\n",
    "        dts = []\n",
    "        n = X.shape[0]\n",
    "        rs = np.random.RandomState(self.random_state)\n",
    "        for i in range(self.n_estimators):\n",
    "            # 创建决策树分类器\n",
    "            dt = DecisionTreeClassifier(random_state=rs.randint(np.iinfo(np.int32).max), max_features = \"auto\")\n",
    "            # 根据随机生成的权重，拟合数据集\n",
    "            dt.fit(X, y, sample_weight=np.bincount(rs.randint(0, n, n), minlength = n))\n",
    "            dts.append(dt)\n",
    "        self.trees = dts\n",
    "\n",
    "    def predict(self, X):\n",
    "        \"\"\"\n",
    "        随机森林分类器预测\n",
    "        \"\"\"\n",
    "        # 预测结果数组\n",
    "        probas = np.zeros((X.shape[0], len(self.y_classes)))\n",
    "        for i in range(self.n_estimators):\n",
    "            # 决策树分类器\n",
    "            dt = self.trees[i]\n",
    "            # 依次预测结果可能性\n",
    "            probas += dt.predict_proba(X)\n",
    "        # 预测结果可能性取平均\n",
    "        probas /= self.n_estimators\n",
    "        # 返回预测结果\n",
    "        return self.y_classes.take(np.argmax(probas, axis = 1), axis = 0)"
   ]
  },
  {
   "cell_type": "markdown",
   "metadata": {},
   "source": [
    "### For Regression\n",
    "https://scikit-learn.org/stable/modules/generated/sklearn.ensemble.RandomForestRegressor.html"
   ]
  },
  {
   "cell_type": "code",
   "execution_count": null,
   "metadata": {},
   "outputs": [],
   "source": [
    "import numpy as np\n",
    "from sklearn.tree import DecisionTreeRegressor\n",
    "\n",
    "class rfr:\n",
    "    \"\"\"\n",
    "    随机森林回归器\n",
    "    \"\"\"\n",
    "\n",
    "    def __init__(self, n_estimators = 100, random_state = 0):\n",
    "        # 随机森林的大小\n",
    "        self.n_estimators = n_estimators\n",
    "        # 随机森林的随机种子\n",
    "        self.random_state = random_state\n",
    "\n",
    "    def fit(self, X, y):\n",
    "        \"\"\"\n",
    "        随机森林回归器拟合\n",
    "        \"\"\"\n",
    "        # 决策树数组\n",
    "        dts = []\n",
    "        n = X.shape[0]\n",
    "        rs = np.random.RandomState(self.random_state)\n",
    "        for i in range(self.n_estimators):\n",
    "            # 创建决策树回归器\n",
    "            dt = DecisionTreeRegressor(random_state=rs.randint(np.iinfo(np.int32).max), max_features = \"auto\")\n",
    "            # 根据随机生成的权重，拟合数据集\n",
    "            dt.fit(X, y, sample_weight=np.bincount(rs.randint(0, n, n), minlength = n))\n",
    "            dts.append(dt)\n",
    "        self.trees = dts\n",
    "\n",
    "    def predict(self, X):\n",
    "        \"\"\"\n",
    "        随机森林回归器预测\n",
    "        \"\"\"\n",
    "        # 预测结果\n",
    "        ys = np.zeros(X.shape[0])\n",
    "        for i in range(self.n_estimators):\n",
    "            # 决策树回归器\n",
    "            dt = self.trees[i]\n",
    "            # 依次预测结果\n",
    "            ys += dt.predict(X)\n",
    "        # 预测结果取平均\n",
    "        ys /= self.n_estimators\n",
    "        return ys"
   ]
  },
  {
   "cell_type": "markdown",
   "metadata": {},
   "source": []
  }
 ],
 "metadata": {
  "language_info": {
   "name": "python"
  }
 },
 "nbformat": 4,
 "nbformat_minor": 2
}
